{
 "cells": [
  {
   "cell_type": "markdown",
   "metadata": {},
   "source": []
  },
  {
   "cell_type": "code",
   "execution_count": null,
   "metadata": {},
   "outputs": [],
   "source": [
    "pip install opencv-python"
   ]
  },
  {
   "cell_type": "code",
   "execution_count": 13,
   "metadata": {},
   "outputs": [
    {
     "data": {
      "text/plain": [
       "'4.5.3'"
      ]
     },
     "execution_count": 13,
     "metadata": {},
     "output_type": "execute_result"
    }
   ],
   "source": [
    "import cv2\n",
    "cv2.__version__"
   ]
  },
  {
   "cell_type": "markdown",
   "metadata": {},
   "source": [
    "# OpenCV를 이용해 이미지 파일 표시\n",
    "***\n",
    "cv2.imread('이미지 주소')  \n",
    "\n",
    "cv2.waitKey() -> 리턴값 이용해서 특정키로 설정도 가능하다. stdin의 아스키코드가 return 된다. 인자가 0 이면 무한대기. 없으면 아무키나 입력하면 종료. 다른 인자를 넣으면 해당 ms 만큼 대기  \n",
    "\n",
    "cv2.destroyAllWindows() -> 현재 이미지가 전시되고 있는 모든 창을 닫는 함수  \n",
    "\n",
    "cv2.imshow(filename[, flags ]) -> filename : 읽어올 파일명, flags : 읽는 방식 뒤에서 소개 "
   ]
  },
  {
   "cell_type": "code",
   "execution_count": 3,
   "metadata": {},
   "outputs": [],
   "source": [
    "# 이미지 파일을 화면에 표시(img_show.py)\n",
    "\n",
    "import cv2\n",
    "img_file = \"./img/river.png\"\n",
    "img = cv2.imread(img_file)\n",
    "\n",
    "if img is not None:\n",
    "  cv2.imshow('IMG', img)\n",
    "  cv2.waitKey()            \n",
    "  cv2.destroyAllWindows()\n",
    "  cv2.waitKey(1)\n",
    "else:\n",
    "    print('No image file.')"
   ]
  },
  {
   "cell_type": "markdown",
   "metadata": {},
   "source": [
    "# cv2.imread() flags 사용법\n",
    "\n",
    "***\n",
    "cv2.imshow(filename[, flags ]) 에서 flags에 들어갈 수 있는 옵션\n",
    "\n",
    "cv2.IMREAD_COLOR, cv2.IMREAD_GRAYSCALE, cv2.IMREAD_UNCHANGED\n",
    "\n",
    "cv2.IMREAD_COLOR : color로 이미지를 읽음(1)\n",
    "\n",
    "cv2.IMREAD_GRAYSCALE : 회색조로 이미지를 읽음. RGB 채널의 값을 하나의 채널로 변환함 (0)\n",
    "\n",
    "cv2.IMREAD_UNCHANGED : alpha channel 까지 포함해서 읽음 (2)"
   ]
  },
  {
   "cell_type": "code",
   "execution_count": 4,
   "metadata": {},
   "outputs": [],
   "source": [
    "# 이미지 파일을 회색으로 화면에 표시(img_show_gray.py)\n",
    "\n",
    "img_file = \"./img/river.png\"\n",
    "img = cv2.imread(img_file, cv2.IMREAD_GRAYSCALE)\n",
    "\n",
    "if img is not None :\n",
    "    cv2.imshow('imgage', img)\n",
    "    cv2.waitKey()\n",
    "    cv2.destroyAllWindows()\n",
    "    cv2.waitKey(1)"
   ]
  },
  {
   "cell_type": "markdown",
   "metadata": {},
   "source": [
    "# OpenCV 활용하여 이미지 저장하기\n",
    "\n",
    "***\n",
    "cv2.imwrite(filename, img[, params])\n",
    "\n",
    "filename : 저장할 파일 이름\n",
    "\n",
    "img : 이미지 파일\n",
    "\n",
    "params : IMWRITE_JPEG_QUALITY, IMWRITE_WEBP_QUALITY, IMWRITE_PNG_COMPRESSION, IMWRITE_PXM_BINARY"
   ]
  },
  {
   "cell_type": "code",
   "execution_count": 1,
   "metadata": {},
   "outputs": [],
   "source": [
    "# 이미지 저장하기 (img_write.py)\n",
    "\n",
    "import cv2\n",
    "img_file = \"./img/river.png\"\n",
    "save_file = \"./img/river_gray.png\"\n",
    "img = cv2.imread(img_file, cv2.IMREAD_GRAYSCALE)\n",
    "\n",
    "if img is not None :    \n",
    "    cv2.imshow(img_file, img)\n",
    "    cv2.imwrite(save_file, img)\n",
    "    cv2.waitKey()\n",
    "    cv2.destroyAllWindows()\n",
    "    cv2.waitKey(1)"
   ]
  },
  {
   "cell_type": "code",
   "execution_count": 4,
   "metadata": {},
   "outputs": [
    {
     "data": {
      "text/plain": [
       "-1"
      ]
     },
     "execution_count": 4,
     "metadata": {},
     "output_type": "execute_result"
    }
   ],
   "source": [
    "# 동영상 읽기 (video_play.py)\n",
    "\n",
    "import cv2\n",
    "\n",
    "video_file = \"./img/sunset.MOV\"\n",
    "\n",
    "cap = cv2.VideoCapture(video_file)\n",
    "if cap.isOpened():\n",
    "    while True :\n",
    "        ret, img = cap.read()\n",
    "        if ret :\n",
    "            cv2.imshow(video_file, img)\n",
    "            cv2.waitKey(25)\n",
    "        else :\n",
    "            break\n",
    "else :\n",
    "    print(\"can't open video :(\")\n",
    "\n",
    "cap.release()\n",
    "cv2.destroyAllWindows()\n",
    "cv2.waitKey(1)"
   ]
  },
  {
   "cell_type": "code",
   "execution_count": 8,
   "metadata": {},
   "outputs": [
    {
     "data": {
      "text/plain": [
       "-1"
      ]
     },
     "execution_count": 8,
     "metadata": {},
     "output_type": "execute_result"
    }
   ],
   "source": [
    "# 웹캠 카메라 접근하기 (video_cam.py)\n",
    "\n",
    "import cv2\n",
    "\n",
    "cap = cv2.VideoCapture(0)\n",
    "if cap.isOpened :\n",
    "    while True :\n",
    "        ret, img  = cap.read()\n",
    "        if ret :\n",
    "            cv2.imshow('camera', img)\n",
    "            if cv2.waitKey(1) != -1 :\n",
    "                break\n",
    "        else :\n",
    "            print('no frame :(')\n",
    "            break\n",
    "else :\n",
    "    print(\"Can't open camera :(\")\n",
    "cap.release()\n",
    "cv2.destroyAllWindows()\n",
    "cv2.waitKey(1)"
   ]
  },
  {
   "cell_type": "code",
   "execution_count": 9,
   "metadata": {},
   "outputs": [
    {
     "data": {
      "text/plain": [
       "-1"
      ]
     },
     "execution_count": 9,
     "metadata": {},
     "output_type": "execute_result"
    }
   ],
   "source": [
    "# 웹캠으로 사진찍기 (video_cam_take_pic.py)\n",
    "\n",
    "import cv2\n",
    "\n",
    "cap = cv2.VideoCapture(0)                       \n",
    "if cap.isOpened() :\n",
    "    while True:\n",
    "        ret, frame = cap.read()                 \n",
    "        if ret:\n",
    "            cv2.imshow('camera',frame)          \n",
    "            if cv2.waitKey(1) != -1:            \n",
    "                cv2.imwrite('./img/photo.jpg', frame) \n",
    "                break\n",
    "        else:\n",
    "            print('no frame!')\n",
    "            break\n",
    "else:\n",
    "    print('no camera!')\n",
    "cap.release()\n",
    "cv2.destroyAllWindows()\n",
    "cv2.waitKey(1)"
   ]
  }
 ],
 "metadata": {
  "kernelspec": {
   "display_name": "Python 3.9.6 64-bit",
   "language": "python",
   "name": "python3"
  },
  "language_info": {
   "codemirror_mode": {
    "name": "ipython",
    "version": 3
   },
   "file_extension": ".py",
   "mimetype": "text/x-python",
   "name": "python",
   "nbconvert_exporter": "python",
   "pygments_lexer": "ipython3",
   "version": "3.9.6"
  },
  "orig_nbformat": 4,
  "vscode": {
   "interpreter": {
    "hash": "aee8b7b246df8f9039afb4144a1f6fd8d2ca17a180786b69acc140d282b71a49"
   }
  }
 },
 "nbformat": 4,
 "nbformat_minor": 2
}
