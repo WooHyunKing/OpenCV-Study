{
 "cells": [
  {
   "cell_type": "markdown",
   "metadata": {},
   "source": [
    "# Draw shapes & Window management and event handling\n",
    "*** \n",
    "\n",
    "Hi there ! I'm SW 18 Woohyun Shin 😎\n",
    "\n",
    "In this chapter, we will learn about Draw shapes and Window management and Event handling."
   ]
  },
  {
   "cell_type": "markdown",
   "metadata": {},
   "source": [
    "# 4. 도형 그리기\n",
    "\n",
    "## 다양한 직선 그리기\n",
    "\n",
    "**cv2.line(img, start, end, color, thickness, lineType)** 함수를 호출하여 다양한 선을 그릴 수 있습니다. 파라미터는 아래와 같습니다.\n",
    "\n",
    "-img: 그림을 그릴 이미지 파일\n",
    "\n",
    "-start: 선 시작 좌표(ex; (0,0))\n",
    "\n",
    "-end: 선 종료 좌표(ex; (500. 500))\n",
    "\n",
    "-color: BGR형태의 선 색상 (ex; (255, 0, 0) -> Blue)\n",
    "\n",
    "-thickness (int): 선의 두께. pixel (default=1)\n",
    "\n",
    "-lineType: 선 그리기 형식 (cv2.LINE_4, cv2.LINE_8, cv2.LINE_AA)\n",
    "\n",
    "\n",
    "⭐️⭐️⭐️ 주의할 점 : color가 RGB 형태가 아니라 BGR 형태(순서가 반대)"
   ]
  },
  {
   "cell_type": "code",
   "execution_count": 3,
   "metadata": {},
   "outputs": [
    {
     "data": {
      "text/plain": [
       "-1"
      ]
     },
     "execution_count": 3,
     "metadata": {},
     "output_type": "execute_result"
    }
   ],
   "source": [
    "import cv2\n",
    "\n",
    "img = cv2.imread('./img/blank_500.jpeg')\n",
    "\n",
    "cv2.line(img,(50,50),(150,50),(255,0,0)) # 파란색 1픽셀 선\n",
    "cv2.line(img,(200,50),(300,50),(0,255,0)) # 초록색 1픽셀 선\n",
    "cv2.line(img,(350,50),(450,50),(0,0,255)) # 빨간색 1픽셀 선\n",
    "\n",
    "# 하늘색(파랑+초록) 10픽셀 선\n",
    "cv2.line(img,(100,100),(400,100),(255,255,0),10)\n",
    "# 분홍색(파랑+빨강) 10픽셀 선\n",
    "cv2.line(img,(100,150),(400,150),(255,0,255),10)\n",
    "# 노란색(초록+빨강) 10픽셀 선\n",
    "cv2.line(img,(100,200),(400,200),(0,255,255),10)\n",
    "# 회색(파랑+초록+빨강) 10픽셀 선\n",
    "cv2.line(img,(100,250),(400,250),(200,200,200),10)\n",
    "# 검정색 10픽셀 선\n",
    "cv2.line(img,(100,300),(400,300),(0,0,0),10)\n",
    "\n",
    "# 4연결 선\n",
    "cv2.line(img,(100,350),(400,400),(0,0,255),20,cv2.LINE_4)\n",
    "# 8연결 선\n",
    "cv2.line(img,(100,400),(400,450),(0,0,255),20,cv2.LINE_4)\n",
    "# 안티에일리어싱 선\n",
    "# cv2.LINE_4/8 파라미터를 전달하면 픽셀이 깨져 보이지만 cv2.LINE_AA는 픽셀이 깨지는 것을 방지해준다.\n",
    "cv2.line(img,(100,450),(400,500),(0,0,255),20,cv2.LINE_AA)\n",
    "# 이미지 전체에 대각선\n",
    "cv2.line(img,(0,0),(500,500),(0,0,255))\n",
    "\n",
    "cv2.imshow('lines',img)\n",
    "cv2.waitKey(0)\n",
    "cv2.destroyAllWindows()\n",
    "cv2.waitKey(1)"
   ]
  },
  {
   "cell_type": "markdown",
   "metadata": {},
   "source": [
    "# 사각형 그리기 ⬜️\n",
    "\n",
    "사각형은 **cv2.rectangle(img, start, end, color, thickness, lineType)** 함수를 호출하여 그릴 수 있습니다. 파라미터는 아래와 같습니다.\n",
    "\n",
    "-img: 그림을 그릴 이미지 파일\n",
    "\n",
    "-start: 사각형 시작 좌표(ex; (0,0))\n",
    "\n",
    "-end: 사각형 종료 좌표(ex; (500. 500))\n",
    "\n",
    "-color: BGR형태의 선 색상 (ex; (255, 0, 0) -> Blue)\n",
    "\n",
    "thickness (int): 선의 두께. pixel (default=1,  🟥 사각형 전체를 색상으로 채우기=-1)\n",
    "\n",
    "-lineType: 선 그리기 형식 (cv2.LINE_4, cv2.LINE_8, cv2.LINE_AA)\n",
    "\n",
    "\n",
    "⭐️⭐️⭐️ 주의할 점 : color가 RGB 형태가 아니라 BGR 형태(순서가 반대)"
   ]
  },
  {
   "cell_type": "code",
   "execution_count": 4,
   "metadata": {},
   "outputs": [
    {
     "data": {
      "text/plain": [
       "-1"
      ]
     },
     "execution_count": 4,
     "metadata": {},
     "output_type": "execute_result"
    }
   ],
   "source": [
    "import cv2\n",
    "\n",
    "img = cv2.imread('./img/blank_500.jpeg')\n",
    "\n",
    "# 좌상, 우하 좌표로 파란색 사각형 그리기, 선 두께는 default=1\n",
    "cv2.rectangle(img,(50,50),(150,150),(255,0,0))\n",
    "# 우하, 좌상 좌표로 초록색 사각형 그리기, 선 두께는 10\n",
    "cv2.rectangle(img,(300,300),(100,100),(0,255,0),10)\n",
    "# 우상, 좌하 좌표로 빨간색 사각형 채워서 그리기\n",
    "cv2.rectangle(img,(450,200),(200,450),(0,0,255),-1)\n",
    "\n",
    "cv2.imshow('rectangle',img)\n",
    "cv2.waitKey(0)\n",
    "cv2.destroyAllWindows()\n",
    "cv2.waitKey(1)"
   ]
  },
  {
   "cell_type": "markdown",
   "metadata": {},
   "source": [
    "# Numpy 란 ?\n",
    "\n",
    "Numpy는 C언어로 구현된 파이썬 라이브러리로써, 고성능의 수치계산을 위해 제작되었습니다. \n",
    "\n",
    "Numerical Python의 줄임말이기도 한 Numpy는 '벡터 및 행렬 연산'에 있어서 매우 편리한 기능을 제공합니다.\n",
    "\n",
    "numpy에서는 기본적으로 array라는 단위로 데이터를 관리하며 이에 대해 연산을 수행합니다. \n",
    "\n",
    "array는 말그대로 \"행렬\"이라는 개념으로 생각하시면 됩니다."
   ]
  },
  {
   "cell_type": "code",
   "execution_count": 5,
   "metadata": {},
   "outputs": [
    {
     "data": {
      "text/plain": [
       "-1"
      ]
     },
     "execution_count": 5,
     "metadata": {},
     "output_type": "execute_result"
    }
   ],
   "source": [
    "# 다각형 그리기\n",
    "\n",
    "import cv2\n",
    "import numpy as np # 좌표 표현을 위한 numpy 모듈\n",
    "\n",
    "img = cv2.imread('./img/blank_500.jpeg')\n",
    "\n",
    "# 번개 모양 선 좌표\n",
    "# dtype=np.int32 : 32비트(4바이트) 크기의 부호 있는 정수형 데이터 타입의 배열 생성\n",
    "pts1 = np.array([[50,50],[150,150],[100,140],[200,240]],dtype=np.int32)\n",
    "\n",
    "# 삼각형 좌표\n",
    "pts2 = np.array([[350,50],[250,200],[450,200]],dtype=np.int32)\n",
    "\n",
    "# 삼각형 좌표\n",
    "pts3 = np.array([[150,300],[50,450],[250,450]],dtype=np.int32)\n",
    "\n",
    "# 오각형 좌표\n",
    "pts4 = np.array([[350,250],[450,350],[400,450],[300,450],[250,350]],dtype=np.int32)\n",
    "\n",
    "# 다각형 그리기\n",
    "# isClosed 매개변수는 닫힌 도형을 그릴지, 열린 도형을 그릴지 여부를 결정합니다. \n",
    "# True일 경우 닫힌 도형을 그리기 때문에 첫 꼭짓점과 마지막 꼭짓점을 서로 연결합니다. \n",
    "# 반면 False일 경우 열린 도형을 그리기 때문에 첫 꼭짓점과 마지막 꼭짓점을 서로 연결하지 않습니다.\n",
    "\n",
    "cv2.polylines(img,[pts1],False,(255,0,0)) # 번개 모양 선 그리기\n",
    "cv2.polylines(img,[pts2],False,(0,0,0),10) # 삼각형 열린 선 그리기\n",
    "cv2.polylines(img,[pts3],True,(0,0,255),10) # 삼각형 닫힌 도형 그리기\n",
    "cv2.polylines(img,[pts4],True,(0,0,0)) # 오각형 닫힌 도형 그리기\n",
    "\n",
    "cv2.imshow('polyline',img)\n",
    "cv2.waitKey(0)\n",
    "cv2.destroyAllWindows()\n",
    "cv2.waitKey(1)"
   ]
  },
  {
   "cell_type": "markdown",
   "metadata": {},
   "source": [
    "# 원, 타원, 호 그리기 🔴\n",
    "\n",
    "**cv2.circle(img, center, radius, color, thickness, lineType)** 함수는 원을 그려주고,\n",
    "\n",
    "-center: 원의 중심 좌표 (x, y)\n",
    "\n",
    "-radius: 원의 반지름\n",
    "\n",
    "-color: 색상\n",
    "\n",
    "-thickness: 선 두께\n",
    "\n",
    "-lineType: 선 타입\n",
    "\n",
    "**cv2.ellipse(img, center, axes, angle, startAngle, endAngle, color, thickness, lineType)** 함수는 타원을 그려줍니다.\n",
    "\n",
    "-center: 타원의 중심 좌표 (x, y)\n",
    "\n",
    "-axes: 타원의 중심에서 가장 긴 축의 길이와 가장 짧은 축의 길이\n",
    "\n",
    "-angle: 타원의 기준 축 회전 각도\n",
    "\n",
    "-startAngle: 타원의 호가 시작하는 각도\n",
    "\n",
    "-endAngle: 타원의 호가 끝나는 각도"
   ]
  },
  {
   "cell_type": "code",
   "execution_count": 6,
   "metadata": {},
   "outputs": [
    {
     "data": {
      "text/plain": [
       "-1"
      ]
     },
     "execution_count": 6,
     "metadata": {},
     "output_type": "execute_result"
    }
   ],
   "source": [
    "# 원, 타원, 호 그리기\n",
    "\n",
    "import cv2\n",
    "\n",
    "img = cv2.imread('./img/blank_500.jpeg')\n",
    "\n",
    "# 원점(150,150), 반지름 100\n",
    "cv2.circle(img,(150,150),100,(255,0,0))\n",
    "\n",
    "# 원점(300,150), 반지름 70, 선 두께 5\n",
    "cv2.circle(img, (300, 150), 70, (0,255,0), 5)   \n",
    "\n",
    "# 원점(400,150), 반지름 50, 채우기\n",
    "cv2.circle(img, (400, 150), 50, (0,0,255), -1)  \n",
    "\n",
    "# 원점(50,300), 반지름(50), 회전 0, 0도 부터 360도 그리기\n",
    "cv2.ellipse(img, (50,300),(50,50),0,0,360,(0,255,0))\n",
    "\n",
    "# 원점(150,300), 반지름(50), 회전 0, 0도 부터 180도 그리기(아래 반원)\n",
    "cv2.ellipse(img, (150,300),(50,50),0,0,180,(255,0,0))\n",
    "\n",
    "# 원점(200,300), 반지름(50), 회전 0, 180도 부터 360도 그리기(윗 반원)\n",
    "cv2.ellipse(img, (200,300),(50,50),0,180,360,(0,0,255))\n",
    "\n",
    "# 원점(325, 300), 반지름(75,50) 납작한 타원 그리기\n",
    "cv2.ellipse(img, (325, 300), (75, 50), 0, 0, 360, (0,255,0))\n",
    "\n",
    "# 원점(450,300), 반지름(50,75) 홀쭉한 타원 그리기\n",
    "cv2.ellipse(img, (450, 300), (50, 75), 0, 0, 360, (255,0,255))\n",
    "\n",
    "# 원점(50, 425), 반지름(50,75), 회전 15도\n",
    "cv2.ellipse(img, (50, 425), (50, 75), 15, 0, 360, (0,0,0)) \n",
    "\n",
    "# 원점(200,425), 반지름(50,75), 회전 45도\n",
    "cv2.ellipse(img, (200, 425), (50, 75), 45, 0, 360, (0,0,0),-1) \n",
    "\n",
    "# 원점(350,425), 홀쭉한 타원 45도 회전 후 아랫 반원 그리기\n",
    "cv2.ellipse(img, (350, 425), (50, 75), 45, 0, 180, (0,0,255)) \n",
    "\n",
    "# 원점(400,425), 홀쭉한 타원 45도 회전 후 윗 반원 그리기 ---⑫\n",
    "cv2.ellipse(img, (400, 425), (50, 75), 45, 181, 360, (255,0,0)) \n",
    "\n",
    "cv2.imshow('circle',img)\n",
    "cv2.waitKey(0)\n",
    "cv2.destroyAllWindows()\n",
    "cv2.waitKey(1)"
   ]
  },
  {
   "cell_type": "markdown",
   "metadata": {},
   "source": [
    "# 글쓰기 💬\n",
    "\n",
    "**cv2.putText(img, text, org, font, fontScale, color, thickness, lineType**함수는 이미지에 문자열을 표시합니다. \n",
    "\n",
    "-text: 표시할 문자열\n",
    "\n",
    "-org: 문자열을 표시할 위치(x, y)\n",
    "\n",
    "-font: 글꼴(cv2.FONT_XXXX 형식)\n",
    "\n",
    "-fontScale: 글꼴 크기"
   ]
  },
  {
   "cell_type": "code",
   "execution_count": 7,
   "metadata": {},
   "outputs": [
    {
     "data": {
      "text/plain": [
       "-1"
      ]
     },
     "execution_count": 7,
     "metadata": {},
     "output_type": "execute_result"
    }
   ],
   "source": [
    "# 글 쓰기\n",
    "\n",
    "import cv2\n",
    "\n",
    "img = cv2.imread('./img/blank_500.jpeg')\n",
    "\n",
    "# sans-serif small\n",
    "cv2.putText(img,\"Plain\",(50,30),cv2.FONT_HERSHEY_PLAIN,1,(0,0,0))\n",
    "\n",
    "# sans-serif normal\n",
    "cv2.putText(img, \"Simplex\", (50, 70), cv2.FONT_HERSHEY_SIMPLEX, 1, (0,0,0))\n",
    "\n",
    "# sans-serif bold\n",
    "cv2.putText(img, \"Duplex\", (50, 110), cv2.FONT_HERSHEY_DUPLEX, 1, (0,0,0)) \n",
    "\n",
    "# sans-serif normall X2\n",
    "cv2.putText(img, \"Simplex\", (200, 110), cv2.FONT_HERSHEY_SIMPLEX, 2, (0,0,250))\n",
    "\n",
    "# serif small\n",
    "cv2.putText(img, \"Complex Small\", (50, 180), cv2.FONT_HERSHEY_COMPLEX_SMALL, 1, (0, 0,0))   \n",
    "# serif normal\n",
    "cv2.putText(img, \"Complex\", (50, 220), cv2.FONT_HERSHEY_COMPLEX, 1, (0, 0,0))\n",
    "\n",
    "# serif bold\n",
    "cv2.putText(img, \"Triplex\", (50, 260), cv2.FONT_HERSHEY_TRIPLEX, 1, (0, 0,0))  \n",
    "\n",
    "# serif normal X2\n",
    "cv2.putText(img, \"Complex\", (200, 260), cv2.FONT_HERSHEY_TRIPLEX, 2, (0,0,255))               \n",
    "\n",
    "# hand-wringing sans-serif\n",
    "cv2.putText(img, \"Script Simplex\", (50, 330), cv2.FONT_HERSHEY_SCRIPT_SIMPLEX, 1, (0, 0,0)) \n",
    "\n",
    "# hand-wringing serif\n",
    "cv2.putText(img, \"Script Complex\", (50, 370), cv2.FONT_HERSHEY_SCRIPT_COMPLEX, 1, (0, 0,0)) \n",
    "\n",
    "# sans-serif + italic ---③\n",
    "cv2.putText(img, \"Plain Italic\", (50, 430), cv2.FONT_HERSHEY_PLAIN | cv2.FONT_ITALIC, 1, (0, 0,0)) \n",
    "# sarif + italic\n",
    "cv2.putText(img, \"Complex Italic\", (50, 470), cv2.FONT_HERSHEY_COMPLEX | cv2.FONT_ITALIC, 1, (0, 0,0)) \n",
    "\n",
    "cv2.imshow('draw text',img)\n",
    "cv2.waitKey(0)\n",
    "cv2.destroyAllWindows()\n",
    "cv2.waitKey(1)"
   ]
  },
  {
   "cell_type": "markdown",
   "metadata": {},
   "source": [
    "# 5. 창 관리 및 이벤트 처리\n",
    "\n",
    "## 창 관리\n",
    "\n",
    "우선, 창 관리를 하는 5가지 함수에 대해 알아보겠습니다.\n",
    "\n",
    "[1] **cv2.namedWindow(winname, flags)** 함수는 winname이라는 이름을 갖는 창을 생성해줍니다. 파라미터는 아래와 같습니다.\n",
    "\n",
    "-winname: 창 구분자로 활용될 창 이름\n",
    "\n",
    "-flags: 창 옵션 \n",
    "\n",
    "(\n",
    "cv2.WINDOW_NORMAL: 사용자가 창 크기를 조정할 수 있음\n",
    "\n",
    "cv2.WINDOW_AUTOSIZE: 이미지와 동일한 크기로 창 크기를 재조정할 수 없음\n",
    ")\n",
    "\n",
    "[2] **cv2.moveWindow(winname, x, y)** 함수를 호출하면 원하는 위치로 창을 옮길 수 있습니다.\n",
    "\n",
    "-winname: 위치를 변경할 창 이름\n",
    "\n",
    "-x, y: 변경할 위치 (x, y 좌표)\n",
    "\n",
    "[3] **cv2.resizeWindow(winname, width, hegith)** 함수는 winname 창의 크기를 (width, height) 크기로 변경해줍니다.\n",
    "\n",
    "[4] **cv2.destroyWindow(winname)** 함수를 호출하면 winname에 해당하는 창을 닫습니다.\n",
    "\n",
    "[5] **cv2.destroyAllwindows()** 함수는 열린 모든 창을 닫습니다."
   ]
  },
  {
   "cell_type": "code",
   "execution_count": 33,
   "metadata": {},
   "outputs": [
    {
     "data": {
      "text/plain": [
       "-1"
      ]
     },
     "execution_count": 33,
     "metadata": {},
     "output_type": "execute_result"
    }
   ],
   "source": [
    "# 창 관리\n",
    "\n",
    "import cv2\n",
    "\n",
    "file_path = './img/book.jpeg'\n",
    "img = cv2.imread(file_path)                            # 이미지를 기본 값으로 읽기\n",
    "img_gray = cv2.imread(file_path, cv2.IMREAD_GRAYSCALE) # 이미지를 그레이 스케일로 읽기\n",
    "\n",
    "cv2.namedWindow('origin')                               # origin 이름으로 창 생성\n",
    "cv2.namedWindow('gray', cv2.WINDOW_NORMAL)              # gray 이름으로 창 생성\n",
    "cv2.imshow('origin', img)                               # origin 창에 이미지 표시\n",
    "cv2.imshow('gray', img_gray)                            # gray 창에 이미지 표시\n",
    "\n",
    "cv2.moveWindow('origin', 0, 0)                          # 창 위치 변경\n",
    "cv2.moveWindow('gray', 100, 100)                        # 창 위치 변경\n",
    "\n",
    "cv2.waitKey(0)                                          # 아무키나 누르면\n",
    "cv2.resizeWindow('origin', 200, 200)                    # 창 크기 변경 (변경 안됨)\n",
    "cv2.resizeWindow('gray', 100,100)                       # 창 크기 변경 (변경 됨, WINDOW_NORMAL 속성을 주었기 때문)\n",
    "\n",
    "cv2.waitKey(0)                                          # 아무키나 누르면\n",
    "cv2.destroyWindow(\"gray\")                               # gray 창 닫기\n",
    "\n",
    "cv2.waitKey(0)                                          # 아무키나 누르면\n",
    "cv2.destroyAllWindows()                                 # 모든 창 닫기\n",
    "cv2.waitKey(1)"
   ]
  }
 ],
 "metadata": {
  "kernelspec": {
   "display_name": "Python 3.10.6 64-bit",
   "language": "python",
   "name": "python3"
  },
  "language_info": {
   "codemirror_mode": {
    "name": "ipython",
    "version": 3
   },
   "file_extension": ".py",
   "mimetype": "text/x-python",
   "name": "python",
   "nbconvert_exporter": "python",
   "pygments_lexer": "ipython3",
   "version": "3.10.6"
  },
  "orig_nbformat": 4,
  "vscode": {
   "interpreter": {
    "hash": "b0fa6594d8f4cbf19f97940f81e996739fb7646882a419484c72d19e05852a7e"
   }
  }
 },
 "nbformat": 4,
 "nbformat_minor": 2
}
